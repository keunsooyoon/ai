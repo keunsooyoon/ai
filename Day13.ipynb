{
  "nbformat": 4,
  "nbformat_minor": 0,
  "metadata": {
    "colab": {
      "name": "Day13.ipynb",
      "provenance": [],
      "authorship_tag": "ABX9TyMhX8R9/See0Wgljj0SC0Hh",
      "include_colab_link": true
    },
    "kernelspec": {
      "name": "python3",
      "display_name": "Python 3"
    },
    "language_info": {
      "name": "python"
    }
  },
  "cells": [
    {
      "cell_type": "markdown",
      "metadata": {
        "id": "view-in-github",
        "colab_type": "text"
      },
      "source": [
        "<a href=\"https://colab.research.google.com/github/keunsooyoon/ai/blob/main/Day13.ipynb\" target=\"_parent\"><img src=\"https://colab.research.google.com/assets/colab-badge.svg\" alt=\"Open In Colab\"/></a>"
      ]
    },
    {
      "cell_type": "code",
      "execution_count": 4,
      "metadata": {
        "colab": {
          "base_uri": "https://localhost:8080/",
          "height": 237
        },
        "id": "xUo8XnM6AoCi",
        "outputId": "6b81059b-ec62-4b63-fc69-4c6114d3ca8d"
      },
      "outputs": [
        {
          "output_type": "stream",
          "name": "stdout",
          "text": [
            "cherry\n",
            "2\n"
          ]
        },
        {
          "output_type": "error",
          "ename": "TypeError",
          "evalue": "ignored",
          "traceback": [
            "\u001b[0;31m---------------------------------------------------------------------------\u001b[0m",
            "\u001b[0;31mTypeError\u001b[0m                                 Traceback (most recent call last)",
            "\u001b[0;32m<ipython-input-4-c141b25b4796>\u001b[0m in \u001b[0;36m<module>\u001b[0;34m()\u001b[0m\n\u001b[1;32m     21\u001b[0m \u001b[0mprint\u001b[0m\u001b[0;34m(\u001b[0m\u001b[0mfruit_tuple\u001b[0m\u001b[0;34m[\u001b[0m\u001b[0;36m2\u001b[0m\u001b[0;34m]\u001b[0m\u001b[0;34m)\u001b[0m\u001b[0;34m\u001b[0m\u001b[0;34m\u001b[0m\u001b[0m\n\u001b[1;32m     22\u001b[0m \u001b[0mprint\u001b[0m\u001b[0;34m(\u001b[0m\u001b[0mfruit_tuple\u001b[0m\u001b[0;34m.\u001b[0m\u001b[0mindex\u001b[0m\u001b[0;34m(\u001b[0m\u001b[0;34m'cherry'\u001b[0m\u001b[0;34m)\u001b[0m\u001b[0;34m)\u001b[0m\u001b[0;34m\u001b[0m\u001b[0;34m\u001b[0m\u001b[0m\n\u001b[0;32m---> 23\u001b[0;31m \u001b[0;32mdel\u001b[0m \u001b[0mfruit_tuple\u001b[0m\u001b[0;34m[\u001b[0m\u001b[0;36m1\u001b[0m\u001b[0;34m]\u001b[0m\u001b[0;34m\u001b[0m\u001b[0;34m\u001b[0m\u001b[0m\n\u001b[0m",
            "\u001b[0;31mTypeError\u001b[0m: 'tuple' object doesn't support item deletion"
          ]
        }
      ],
      "source": [
        "# Tuple, List and Dict\n",
        "\n",
        "# There are several ways that collections of data canbe stored as a single item.\n",
        "# There of the simpler ones are:\n",
        "# 1. Tuple\n",
        "# 2. List\n",
        "# 3. Dict\n",
        "# (4). Set\n",
        "\n",
        "# Tuple : Once a tuple is defined you cannot change what is stored in it. (immutable)\n",
        "# ()\n",
        "# List : The contents of a list canbe changed while the program is running and lists\n",
        "#        are one of the most common ways to store a collection of data in Python.\n",
        "#        (mutable)\n",
        "# []\n",
        "# DIct : can also be changed while the program is running. mutable \n",
        "#         Each value is given an index or key you can define to help identify \n",
        "#         each piece of data\n",
        "# {}\n",
        "fruit_tuple = ('apple','banana','cherry','orange')\n",
        "print(fruit_tuple[2])\n",
        "print(fruit_tuple.index('cherry'))\n",
        "del fruit_tuple[1]  "
      ]
    },
    {
      "cell_type": "code",
      "source": [
        "names_list = ['John','Tim','Sam']\n",
        "del names_list[1]\n",
        "names_list"
      ],
      "metadata": {
        "colab": {
          "base_uri": "https://localhost:8080/"
        },
        "id": "MytAkK-CDPhP",
        "outputId": "6ef135a2-751f-4e67-d6d0-da113e9f84bb"
      },
      "execution_count": 13,
      "outputs": [
        {
          "output_type": "execute_result",
          "data": {
            "text/plain": [
              "['John', 'Sam']"
            ]
          },
          "metadata": {},
          "execution_count": 13
        }
      ]
    },
    {
      "cell_type": "code",
      "source": [
        "names_list.append(input('Add a name : '))\n",
        "names_list"
      ],
      "metadata": {
        "colab": {
          "base_uri": "https://localhost:8080/"
        },
        "id": "HHLRMjBfDuH5",
        "outputId": "b490555d-e585-4176-d0c6-cc766040477f"
      },
      "execution_count": 14,
      "outputs": [
        {
          "name": "stdout",
          "output_type": "stream",
          "text": [
            "Add a name : Austin\n"
          ]
        },
        {
          "output_type": "execute_result",
          "data": {
            "text/plain": [
              "['John', 'Sam', 'Austin']"
            ]
          },
          "metadata": {},
          "execution_count": 14
        }
      ]
    },
    {
      "cell_type": "code",
      "source": [
        "names_list.sort()\n",
        "\n",
        "# Sorts [list] into alphabetical order and saves the list in the new order"
      ],
      "metadata": {
        "id": "tw-D8r7xEI2f"
      },
      "execution_count": 9,
      "outputs": []
    },
    {
      "cell_type": "code",
      "source": [
        "names_list\n"
      ],
      "metadata": {
        "colab": {
          "base_uri": "https://localhost:8080/"
        },
        "id": "WmD4JkQ-EQVP",
        "outputId": "85a30709-3b42-432e-a84b-d7ba3745ac84"
      },
      "execution_count": 10,
      "outputs": [
        {
          "output_type": "execute_result",
          "data": {
            "text/plain": [
              "['Austin', 'John', 'Sam']"
            ]
          },
          "metadata": {},
          "execution_count": 10
        }
      ]
    },
    {
      "cell_type": "code",
      "source": [
        "names_list = ['John', 'Sam', 'Austin']\n",
        "print(sorted(names_list))\n",
        "print(names_list)\n",
        "\n",
        "# Displays names_list in alphabetical order but does not change the order of the \n",
        "# original list."
      ],
      "metadata": {
        "colab": {
          "base_uri": "https://localhost:8080/"
        },
        "id": "YTRTq845EgUz",
        "outputId": "61d22d17-2c4b-4527-b237-d7ecbffd5eed"
      },
      "execution_count": 15,
      "outputs": [
        {
          "output_type": "stream",
          "name": "stdout",
          "text": [
            "['Austin', 'John', 'Sam']\n",
            "['John', 'Sam', 'Austin']\n"
          ]
        }
      ]
    },
    {
      "cell_type": "code",
      "source": [
        "color = {1:'red',2:'blue',3:'green'}\n",
        "\n",
        "# Creates a dict called 'color' , where each item is assigned an index of your choosing\n",
        "\n",
        "print(color[2])"
      ],
      "metadata": {
        "colab": {
          "base_uri": "https://localhost:8080/"
        },
        "id": "OQTMJ3PXFT3M",
        "outputId": "11b6aee6-4104-4b0e-f220-ee2ab9482b9f"
      },
      "execution_count": 16,
      "outputs": [
        {
          "output_type": "stream",
          "name": "stdout",
          "text": [
            "blue\n"
          ]
        }
      ]
    },
    {
      "cell_type": "code",
      "source": [
        "# Quiz 1\n",
        "\n",
        "# Create a tuple containing the names of five countries and display the whole tuple\n",
        "# Ask the user to enter on of the countries that have been shown to them and then \n",
        "# display the index number (position in the tuple), { NO CHINA }\n",
        "\n",
        "country = ('Korea','USA','UK','Japan','France')\n",
        "\n",
        "print(country)\n",
        "\n",
        "name = input('Please enter one of the countries from above : ')\n",
        "\n",
        "print(f'{name} has index number {country.index(name)}')"
      ],
      "metadata": {
        "colab": {
          "base_uri": "https://localhost:8080/"
        },
        "id": "kG7t-ePhF9dd",
        "outputId": "c7d6cd35-5083-45a5-b95a-df5357e79037"
      },
      "execution_count": 19,
      "outputs": [
        {
          "output_type": "stream",
          "name": "stdout",
          "text": [
            "('Korea', 'USA', 'UK', 'Japan', 'france')\n",
            "Please enter one of the countries from above : france\n",
            "france has index number 4\n"
          ]
        }
      ]
    },
    {
      "cell_type": "code",
      "source": [
        "# Add to program above, to ask the user to enter a number and display \n",
        "# the country in that position.\n",
        "\n",
        "country = ('Korea','USA','UK','Japan','France')\n",
        "\n",
        "print(country)\n",
        "\n",
        "num = int(input('Please enter a number between 0 and 4 : '))\n",
        "\n",
        "print(country[num])"
      ],
      "metadata": {
        "colab": {
          "base_uri": "https://localhost:8080/"
        },
        "id": "9YS3lYTPJBoB",
        "outputId": "bbc2ae0e-800b-4bb2-9390-bd22a2b46354"
      },
      "execution_count": 21,
      "outputs": [
        {
          "output_type": "stream",
          "name": "stdout",
          "text": [
            "('Korea', 'USA', 'UK', 'Japan', 'France')\n",
            "Please enter a number between 0 and 4 : 4\n",
            "France\n"
          ]
        }
      ]
    },
    {
      "cell_type": "code",
      "source": [
        "# Create a list of two sports. Ask the user what their favourite sport is \n",
        "# and add this to the end of the list. Sort the list and display it.\n",
        "\n",
        "spo = ['TKD', 'soccer']\n",
        "\n",
        "spo.append(input('What is your favorite sport ? '))\n",
        "spo.sort()\n",
        "print(spo)"
      ],
      "metadata": {
        "colab": {
          "base_uri": "https://localhost:8080/"
        },
        "id": "vHq8asxjKt3O",
        "outputId": "9b9fdf15-3224-4d36-d95d-4b56ba57d25c"
      },
      "execution_count": 22,
      "outputs": [
        {
          "output_type": "stream",
          "name": "stdout",
          "text": [
            "What is your favorite sport ? baseball\n",
            "['TKD', 'baseball', 'soccer']\n"
          ]
        }
      ]
    },
    {
      "cell_type": "code",
      "source": [
        "# Ask the user to enter four of their favourite foods and store them \n",
        "# in a dict so that they are indexed with number starting from 1.\n",
        "# Display the dict in full, showing the index number and the item.\n",
        "# Ask them which they want to get rid of and remove it from the list\n",
        "# Sort the remaining data(values) and display.\n",
        "\n",
        "\n",
        "food_dict = {}\n",
        "food1 = input('Enter a food you like : ')\n",
        "food_dict[1] = food1\n",
        "food2 = input('Enter a food you like : ')\n",
        "food_dict[2] = food2\n",
        "food3 = input('Enter a food you like : ')\n",
        "food_dict[3] = food3\n",
        "food4 = input('Enter a food you like : ')\n",
        "food_dict[4] = food4\n",
        "\n",
        "\n",
        "print(food_dict)\n",
        "dislike = int(input('Which of these do you want to get rid of? '))\n",
        "del food_dict[dislike]\n",
        "print(sorted(food_dict.values()))"
      ],
      "metadata": {
        "colab": {
          "base_uri": "https://localhost:8080/"
        },
        "id": "munZy_3SMXYZ",
        "outputId": "228d507b-3726-4e1c-f523-4cbb7ca647a9"
      },
      "execution_count": 23,
      "outputs": [
        {
          "output_type": "stream",
          "name": "stdout",
          "text": [
            "Enter a food you like : chicken\n",
            "Enter a food you like : ramen\n",
            "Enter a food you like : pizza\n",
            "Enter a food you like : maratang\n",
            "{1: 'chicken', 2: 'ramen', 3: 'pizza', 4: 'maratang'}\n",
            "Which of these do you want to get rid of? 2\n",
            "['chicken', 'maratang', 'pizza']\n"
          ]
        }
      ]
    },
    {
      "cell_type": "code",
      "source": [
        "food ={}\n",
        "num = 1\n",
        "for i in range(0,4):\n",
        "    what = input(\"what's your favorite food?\")\n",
        "    food[what] = num\n",
        "    num += 1\n",
        "print(food)\n",
        "what2 = input(\"remove food\")\n",
        "del(food[what2])\n",
        "food2 = sorted(food.items())\n",
        "print(food2)"
      ],
      "metadata": {
        "colab": {
          "base_uri": "https://localhost:8080/"
        },
        "id": "qigG4Gq3Pk59",
        "outputId": "bc708d0d-d260-406d-80af-e0751a0f679a"
      },
      "execution_count": 24,
      "outputs": [
        {
          "output_type": "stream",
          "name": "stdout",
          "text": [
            "what's your favorite food?chicken\n",
            "what's your favorite food?maratang\n",
            "what's your favorite food?pizza\n",
            "what's your favorite food?ramen\n",
            "{'chicken': 1, 'maratang': 2, 'pizza': 3, 'ramen': 4}\n",
            "remove foodpizza\n",
            "[('chicken', 1), ('maratang', 2), ('ramen', 4)]\n"
          ]
        }
      ]
    },
    {
      "cell_type": "code",
      "source": [
        "dict={}\n",
        "for i in range(1,5):\n",
        "    a=input(\"ur fave food? : \")\n",
        "    dict[i]=a\n",
        "print(dict)\n",
        "r=int(input(\"what u wanna remove it? : \"))\n",
        "del dict[r]\n",
        "print(sorted(list(dict.values())))\n"
      ],
      "metadata": {
        "colab": {
          "base_uri": "https://localhost:8080/"
        },
        "id": "ZqMBhSMoP8Vr",
        "outputId": "8dfd4af8-c8db-4e1a-989c-c44b2c28970d"
      },
      "execution_count": 26,
      "outputs": [
        {
          "output_type": "stream",
          "name": "stdout",
          "text": [
            "ur fave food? : pizza\n",
            "ur fave food? : mara\n",
            "ur fave food? : ham\n",
            "ur fave food? : ramen\n",
            "{0: 'pizza', 1: 'mara', 2: 'ham', 3: 'ramen'}\n",
            "what u wanna remove it? : 2\n",
            "['mara', 'pizza', 'ramen']\n"
          ]
        }
      ]
    }
  ]
}