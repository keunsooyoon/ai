{
  "nbformat": 4,
  "nbformat_minor": 0,
  "metadata": {
    "colab": {
      "name": "Day12.ipynb",
      "provenance": [],
      "authorship_tag": "ABX9TyPLBiWfWUnU3JevTyghmVxk",
      "include_colab_link": true
    },
    "kernelspec": {
      "name": "python3",
      "display_name": "Python 3"
    },
    "language_info": {
      "name": "python"
    }
  },
  "cells": [
    {
      "cell_type": "markdown",
      "metadata": {
        "id": "view-in-github",
        "colab_type": "text"
      },
      "source": [
        "<a href=\"https://colab.research.google.com/github/keunsooyoon/ai/blob/main/Day12.ipynb\" target=\"_parent\"><img src=\"https://colab.research.google.com/assets/colab-badge.svg\" alt=\"Open In Colab\"/></a>"
      ]
    },
    {
      "cell_type": "code",
      "execution_count": 1,
      "metadata": {
        "colab": {
          "base_uri": "https://localhost:8080/"
        },
        "id": "21NsBViW37sz",
        "outputId": "c22618eb-3899-4c5b-f2db-7f6d97d3763f"
      },
      "outputs": [
        {
          "output_type": "stream",
          "name": "stdout",
          "text": [
            "3.14\n"
          ]
        }
      ],
      "source": [
        "# Maths\n",
        "\n",
        "num = 3.141592\n",
        "print(round(num,2)) # Display a number rounded to two decimal places."
      ]
    },
    {
      "cell_type": "code",
      "source": [
        "10**2\n",
        "# To the power of ..."
      ],
      "metadata": {
        "colab": {
          "base_uri": "https://localhost:8080/"
        },
        "id": "9xS0vvoX7QHb",
        "outputId": "15f329a0-2abc-49e3-ce55-48fef0ceaa1a"
      },
      "execution_count": 2,
      "outputs": [
        {
          "output_type": "execute_result",
          "data": {
            "text/plain": [
              "100"
            ]
          },
          "metadata": {},
          "execution_count": 2
        }
      ]
    },
    {
      "cell_type": "code",
      "source": [
        "import math\n",
        "\n",
        "math.sqrt(100)\n",
        "\n",
        "# The square root of a number but you must have the line 'import math' \n",
        "# at the top of your program for this to work. "
      ],
      "metadata": {
        "colab": {
          "base_uri": "https://localhost:8080/"
        },
        "id": "5TDTsYQL7Vck",
        "outputId": "6e7da70b-744d-4224-d1ef-eea10748e40b"
      },
      "execution_count": 4,
      "outputs": [
        {
          "output_type": "execute_result",
          "data": {
            "text/plain": [
              "10.0"
            ]
          },
          "metadata": {},
          "execution_count": 4
        }
      ]
    },
    {
      "cell_type": "code",
      "source": [
        "math.pi\n",
        "\n",
        "# Gives you pi to decimal places, but you must have the line 'import math'\n",
        "# at the top of your program for this to work."
      ],
      "metadata": {
        "colab": {
          "base_uri": "https://localhost:8080/"
        },
        "id": "njGzlSeF75XO",
        "outputId": "eb43bfc7-de34-42dd-d176-97d0672deb4d"
      },
      "execution_count": 5,
      "outputs": [
        {
          "output_type": "execute_result",
          "data": {
            "text/plain": [
              "3.141592653589793"
            ]
          },
          "metadata": {},
          "execution_count": 5
        }
      ]
    },
    {
      "cell_type": "code",
      "source": [
        "15 // 2\n",
        "# Whole number division. 15//2 gives the answer 7."
      ],
      "metadata": {
        "colab": {
          "base_uri": "https://localhost:8080/"
        },
        "id": "-yOjjicu78JK",
        "outputId": "43e0d871-d56e-4151-aca8-4a356e467650"
      },
      "execution_count": 7,
      "outputs": [
        {
          "output_type": "execute_result",
          "data": {
            "text/plain": [
              "7"
            ]
          },
          "metadata": {},
          "execution_count": 7
        }
      ]
    },
    {
      "cell_type": "code",
      "source": [
        "15 % 2\n",
        "# Finds the remainder. 15 % 2 gives the answer 1.\n"
      ],
      "metadata": {
        "colab": {
          "base_uri": "https://localhost:8080/"
        },
        "id": "53EL36qz8cmi",
        "outputId": "b71b397b-168d-4bc2-8c3e-d4c810468ab7"
      },
      "execution_count": 8,
      "outputs": [
        {
          "output_type": "execute_result",
          "data": {
            "text/plain": [
              "1"
            ]
          },
          "metadata": {},
          "execution_count": 8
        }
      ]
    },
    {
      "cell_type": "code",
      "source": [
        "# Ask the user to enter an integer that is over 500. Work out the \n",
        "# square root of that number and display it to two decimal places.\n",
        "\n",
        "# (input) 'Enter a number over 500:'\n",
        "\n",
        "import math\n",
        "\n",
        "num = int(input('Enter a number over 500 : '))\n",
        "ans = math.sqrt(num)\n",
        "print(round(ans,2))"
      ],
      "metadata": {
        "colab": {
          "base_uri": "https://localhost:8080/"
        },
        "id": "LvWPaHM38vO_",
        "outputId": "d60f5f05-27f3-4f44-eda9-ef4b122b8a5a"
      },
      "execution_count": 9,
      "outputs": [
        {
          "output_type": "stream",
          "name": "stdout",
          "text": [
            "Enter a number over 500 : 550\n",
            "23.45\n"
          ]
        }
      ]
    },
    {
      "cell_type": "code",
      "source": [
        "# Ask the user to enter the radius of a circle.\n",
        "# Work out the area of the circle. (pi * radius**2)\n",
        "\n",
        "# (input) 'Enter the radius of the circle : '\n",
        "\n",
        "import math\n",
        "num = int(input('Enter the radius of the circle : '))\n",
        "print(math.pi*num**2)\n"
      ],
      "metadata": {
        "colab": {
          "base_uri": "https://localhost:8080/"
        },
        "id": "LKZ8F1E7-NII",
        "outputId": "b2e7c8a0-1e42-4ddc-ce01-74e7b52dfa76"
      },
      "execution_count": 10,
      "outputs": [
        {
          "output_type": "stream",
          "name": "stdout",
          "text": [
            "Enter the radius of the circle : 5\n",
            "78.53981633974483\n"
          ]
        }
      ]
    },
    {
      "cell_type": "code",
      "source": [
        "# Ask the user to enter two numbers. Use whole number division to divide\n",
        "# the first number by the second and also work out the remainder and \n",
        "# display the answer in a user-friendly way ...\n",
        "# if they enter 7 and 2 display'7 divided by 2 is 3 with 1 remaining'\n",
        "\n",
        "# (input) 'Enter a first number :  7\n",
        "# (input) 'Enter a second number : 2\n",
        "\n",
        "# (output) 7 divided by 2 is 3 with 1 remaining\n",
        "\n",
        "n1 = int(input('Enter a number : '))\n",
        "n2 = int(input('Enter a number : '))\n",
        "\n",
        "a = n1 // n2\n",
        "b = n1 % n2 \n",
        "\n",
        "print(f'{n1} divided by {n2} is {a} with {b} remaining')\n"
      ],
      "metadata": {
        "colab": {
          "base_uri": "https://localhost:8080/"
        },
        "id": "R_wLpzBW_Ec3",
        "outputId": "ad3c938f-cad9-49db-8d09-60dfda7fe993"
      },
      "execution_count": 11,
      "outputs": [
        {
          "output_type": "stream",
          "name": "stdout",
          "text": [
            "Enter a number : 7\n",
            "Enter a number : 2\n",
            "7 divided by 2 is 3 with 1 remaining\n"
          ]
        }
      ]
    },
    {
      "cell_type": "code",
      "source": [
        "# Display the following message:\n",
        "      # 1) Square\n",
        "      # 2) Triangle\n",
        "      \n",
        "      # Enter a number :\n",
        "\n",
        "# if the user enters 1, then it should ask them for the length of one of its\n",
        "# sides and display the area. If they select 2, it should ask for the base and\n",
        "# height of the triangle and display the area. If they type in anything else,\n",
        "# it should give them a suitable error message.\n",
        "print('1) Square')\n",
        "print('2) Triangle')\n",
        "print()      \n",
        "no = int(input('Enter a number :'))\n",
        "\n",
        "if no == 1:\n",
        "  side = int(input('Enter the length of one side : '))\n",
        "  area = side * side\n",
        "  print('The area of your chosen shape is', area)\n",
        "elif no == 2:\n",
        "  base = int(input('Enter the length of the base : '))\n",
        "  height = int(input('Enter the height of the triangle : '))\n",
        "  area = (base * height) / 2\n",
        "  print('The area of your chosen shape is', area)\n",
        "else:\n",
        "  print('Incorrent option selected')"
      ],
      "metadata": {
        "colab": {
          "base_uri": "https://localhost:8080/"
        },
        "id": "LgaokS8TAVWh",
        "outputId": "0129c499-1a91-492a-f206-20852d90ee7a"
      },
      "execution_count": 13,
      "outputs": [
        {
          "output_type": "stream",
          "name": "stdout",
          "text": [
            "1) Square\n",
            "2) Triangle\n",
            "\n",
            "Enter a number :1\n",
            "Enter the length of one side : 2\n",
            "The area of your chosen chape is 4\n"
          ]
        }
      ]
    },
    {
      "cell_type": "code",
      "source": [
        "#########################################\n",
        "# For\n",
        "#########################################\n",
        "\n",
        "# The range function is often used in for loops and lists the starting number,\n",
        "# the ending number and can also include the steps\n",
        "\n",
        "# for i in range(start, stop, step)\n",
        "\n",
        "for i in range(0,5):\n",
        "  print(i)"
      ],
      "metadata": {
        "colab": {
          "base_uri": "https://localhost:8080/"
        },
        "id": "SJvGOEBFIior",
        "outputId": "3180b881-3a5b-45ba-b9b1-97f8507c955e"
      },
      "execution_count": 16,
      "outputs": [
        {
          "output_type": "stream",
          "name": "stdout",
          "text": [
            "0\n",
            "1\n",
            "2\n",
            "3\n",
            "4\n"
          ]
        }
      ]
    },
    {
      "cell_type": "code",
      "source": [
        "for i in range(0,5,1):\n",
        "  print(i)"
      ],
      "metadata": {
        "colab": {
          "base_uri": "https://localhost:8080/"
        },
        "id": "NYs1LoSwJPNR",
        "outputId": "cb3286d1-fa1e-441d-d371-57f41243dea7"
      },
      "execution_count": 17,
      "outputs": [
        {
          "output_type": "stream",
          "name": "stdout",
          "text": [
            "0\n",
            "1\n",
            "2\n",
            "3\n",
            "4\n"
          ]
        }
      ]
    },
    {
      "cell_type": "code",
      "source": [
        "for i in range(5):\n",
        "  print(i)"
      ],
      "metadata": {
        "colab": {
          "base_uri": "https://localhost:8080/"
        },
        "id": "k9bhgWxSJYgy",
        "outputId": "9e3d0bf0-0503-48c8-b932-2b5ff949dce2"
      },
      "execution_count": 18,
      "outputs": [
        {
          "output_type": "stream",
          "name": "stdout",
          "text": [
            "0\n",
            "1\n",
            "2\n",
            "3\n",
            "4\n"
          ]
        }
      ]
    },
    {
      "cell_type": "code",
      "source": [
        "for i in range(10,1,-3):\n",
        "  print(i)"
      ],
      "metadata": {
        "colab": {
          "base_uri": "https://localhost:8080/"
        },
        "id": "O3fR3_vwJeBA",
        "outputId": "a822799c-9c49-44f3-cb3f-d77e26ed9f92"
      },
      "execution_count": 19,
      "outputs": [
        {
          "output_type": "stream",
          "name": "stdout",
          "text": [
            "10\n",
            "7\n",
            "4\n"
          ]
        }
      ]
    },
    {
      "cell_type": "code",
      "source": [
        "no = [0,1,2,3,4]\n",
        "\n",
        "for i in no:\n",
        "  print(i)"
      ],
      "metadata": {
        "colab": {
          "base_uri": "https://localhost:8080/"
        },
        "id": "6Y-ERZwIJnB7",
        "outputId": "d09e76f9-660e-4451-e52a-598c6228c080"
      },
      "execution_count": 21,
      "outputs": [
        {
          "output_type": "stream",
          "name": "stdout",
          "text": [
            "0\n",
            "1\n",
            "2\n",
            "3\n",
            "4\n"
          ]
        }
      ]
    },
    {
      "cell_type": "code",
      "source": [
        "# Ask the user to enter their name and then display their name three times.\n",
        "\n",
        "# Alter program, so that it will ask the user to enter their name and a number\n",
        "# and then display their name that number of times.\n",
        "\n",
        "name = input('your name??? >>')\n",
        "no = int(input('how many??? >>'))\n",
        "for i in range(no):\n",
        "  print(name)\n"
      ],
      "metadata": {
        "colab": {
          "base_uri": "https://localhost:8080/"
        },
        "id": "DSpIyzG3J9H7",
        "outputId": "80069afc-27c8-4c4c-bcd4-4b661e7ad53d"
      },
      "execution_count": 24,
      "outputs": [
        {
          "output_type": "stream",
          "name": "stdout",
          "text": [
            "your name??? >>austin\n",
            "how many??? >>5\n",
            "austin\n",
            "austin\n",
            "austin\n",
            "austin\n",
            "austin\n"
          ]
        }
      ]
    },
    {
      "cell_type": "code",
      "source": [
        "# Ask the user to enter their name and \n",
        "# display each letter in their name on a separate line.\n",
        "\n",
        "name = input('Your name??? >>>')\n",
        "\n",
        "for i in name:\n",
        "  print(i)"
      ],
      "metadata": {
        "colab": {
          "base_uri": "https://localhost:8080/"
        },
        "id": "WAuIYJitMIGw",
        "outputId": "d17c86d4-27f7-47b6-f687-8e40e7ca2202"
      },
      "execution_count": 25,
      "outputs": [
        {
          "output_type": "stream",
          "name": "stdout",
          "text": [
            "Your name??? >>>austin\n",
            "a\n",
            "u\n",
            "s\n",
            "t\n",
            "i\n",
            "n\n"
          ]
        }
      ]
    },
    {
      "cell_type": "code",
      "source": [
        "# Ask for a number below 50 and then count down from 50 to that number,\n",
        "# making sure you show the number they entered in the output.\n",
        "\n",
        "# 50 미만의 수를 입력 받아 50 부터 (거꾸로) 카운 다운하면서 숫자를 출력한다. \n",
        "# 입력한 숫자까지 출력하자\n",
        "\n",
        "# by  김수연\n",
        "num = int(input(\"Enter num (not over 50) \"))\n",
        "for i in range(50,num-1,-1):\n",
        "    print(i)\n",
        "print('you entered',num)\n"
      ],
      "metadata": {
        "colab": {
          "base_uri": "https://localhost:8080/"
        },
        "id": "o2drik0BL7Xh",
        "outputId": "92628780-33ec-4374-89e5-5d7ec221be61"
      },
      "execution_count": 28,
      "outputs": [
        {
          "output_type": "stream",
          "name": "stdout",
          "text": [
            "Enter num (not over 50) 40\n",
            "50\n",
            "49\n",
            "48\n",
            "47\n",
            "46\n",
            "45\n",
            "44\n",
            "43\n",
            "42\n",
            "41\n",
            "40\n",
            "you entered 40\n"
          ]
        }
      ]
    },
    {
      "cell_type": "code",
      "source": [
        "# Set a variable called total to 0. Ask the user to enter five numbers and after each \n",
        "# input ask them if they want that number included. \n",
        "# If they do, then add the number to the total.\n",
        "# After they have entered all five numbers, display the total.\n",
        "\n",
        "# total 변수에 0을 설정하세요\n",
        "# 5번 숫자를 입력하라고 반복 요청하고 숫자를 입력할때마다 \n",
        "# 입력한 값을 total 에 더할 것인지 묻는다. 더하길 원하는 답을 하면 total 에 더하고 \n",
        "# 아니면 더하지는 않는다. 5번 숫자를 입력하면 total  출력한다. \n",
        "\n",
        "total = 0\n",
        "for i in range(5):\n",
        "  num = int(input('Enter a number ; '))\n",
        "  ans = input('Do you want this number included? (y/n)')\n",
        "  if ans == 'y':\n",
        "    total = total + num\n",
        "    \n",
        "print(total)"
      ],
      "metadata": {
        "colab": {
          "base_uri": "https://localhost:8080/"
        },
        "id": "Tctz7L0DOrqS",
        "outputId": "2bab9476-c793-4fde-ccf6-28068939ed0a"
      },
      "execution_count": 30,
      "outputs": [
        {
          "output_type": "stream",
          "name": "stdout",
          "text": [
            "Enter a number ; 1\n",
            "Do you want this number included? (y/n)y\n",
            "Enter a number ; 2\n",
            "Do you want this number included? (y/n)y\n",
            "Enter a number ; 3\n",
            "Do you want this number included? (y/n)n\n",
            "Enter a number ; 4\n",
            "Do you want this number included? (y/n)n\n",
            "Enter a number ; 5\n",
            "Do you want this number included? (y/n)y\n",
            "8\n"
          ]
        }
      ]
    },
    {
      "cell_type": "code",
      "source": [
        "# Ask which direction the user wants to count (up or down).\n",
        "# If they select up, then ask them for the top number and then count from 1 to that number.  \n",
        "# If they select down, ask them to enter a number below 20 and then count down from 20\n",
        "# to that number. If they entered something other than up or down,\n",
        "# display the message 'i dont understand'.\n",
        "\n",
        "# 사용자가 원하는 카운트 방향(위로 또는 아래로)을 묻고\n",
        "# 만약 up을 선택하면,큰 수를 묻고 1부터 그 수까지 출력한다.\n",
        "# 만약 down을 선택하면 20미만의 수를 묻고 20부터 그 수까지를 출력한다. \n",
        "# 업 또는 다운이 아닌 것을 선택하면 'i dont understand'. 를 출력한다. \n",
        "\n",
        "direction = input('Do you wnat to count up or down? (u/d)')\n",
        "\n",
        "if direction == 'u':\n",
        "  num = int(input('What is the top number ? \" '))\n",
        "  for i in range(1, num+1):\n",
        "    print(i)\n",
        "elif direction == 'd':\n",
        "  num = int(input('Enter a number below 20 : '))\n",
        "  for i in range(20, num -1, -1):\n",
        "    print(i)\n",
        "else:\n",
        "  print(\"I don't understand\")\n"
      ],
      "metadata": {
        "colab": {
          "base_uri": "https://localhost:8080/"
        },
        "id": "adke4Mc9UvGs",
        "outputId": "7a46f8de-81c8-4936-c8bc-258eb87a066b"
      },
      "execution_count": 33,
      "outputs": [
        {
          "output_type": "stream",
          "name": "stdout",
          "text": [
            "Do you wnat to count up or down? (u/d)d\n",
            "Enter a number below 20 : 15\n",
            "20\n",
            "19\n",
            "18\n",
            "17\n",
            "16\n",
            "15\n"
          ]
        }
      ]
    },
    {
      "cell_type": "code",
      "source": [
        "# Ask how many people the user wants to invite to a party.\n",
        "# If they enter a number below 10, ask for the names and after each name display\n",
        "# '[name] has been invited'. \n",
        "# If they enter a number which is 10 or higher, display the message 'Too many people'\n",
        "\n",
        "# 파티에 몇 명을 초대할지 묻자.\n",
        "# 만약 10 미만으로 입력하면 그 숫자 만큼 이름을 묻고  '[name] has been invited'.를 출력한다.\n",
        "# 만약 10 이상으로 입력하면 'Too many people' 을 출력한다. \n",
        "\n",
        "no = int(input('How many ??? '))\n",
        "\n",
        "if no < 10:\n",
        "  for i in range(no):\n",
        "    name = input('Name ??? ')\n",
        "    print(name, ' has been invited')\n",
        "else:\n",
        "  print('Too many people')"
      ],
      "metadata": {
        "colab": {
          "base_uri": "https://localhost:8080/"
        },
        "id": "zn_oEpfdY5F6",
        "outputId": "65665df6-329e-4a32-84ee-bb7d88958fbd"
      },
      "execution_count": 37,
      "outputs": [
        {
          "output_type": "stream",
          "name": "stdout",
          "text": [
            "How many ??? 3\n",
            "Name ??? austin\n",
            "austin  has been invited\n",
            "Name ??? rick\n",
            "rick  has been invited\n",
            "Name ??? mic\n",
            "mic  has been invited\n"
          ]
        }
      ]
    },
    {
      "cell_type": "code",
      "source": [
        "###############################################\n",
        "# While\n",
        "\n",
        "# A while loop allows code to be repeted an unknown number of times \n",
        "# as long as a condition is being met.\n",
        "# This may be 100 times, just the once or even never\n",
        "# It is important, therefore, to make sure the correct conditions are in place\n",
        "# to run the loop before it starts.\n",
        "\n",
        "\n",
        "total = 0\n",
        "\n",
        "while total < 100:\n",
        "  num = int(input('Enter a number : '))\n",
        "  total = total + num\n",
        "print('The total is ', total)"
      ],
      "metadata": {
        "colab": {
          "base_uri": "https://localhost:8080/"
        },
        "id": "TXXdB-ppb6FA",
        "outputId": "dfbe6ee9-4d5f-4af9-9e5e-8f8126585f5e"
      },
      "execution_count": 39,
      "outputs": [
        {
          "output_type": "stream",
          "name": "stdout",
          "text": [
            "Enter a number : 99\n",
            "Enter a number : 10\n",
            "The total is  109\n"
          ]
        }
      ]
    },
    {
      "cell_type": "code",
      "source": [
        "# Set the total to 0 to start with. While the total is 50 or less,\n",
        "# ask the user to input a number. Add that number to the total and \n",
        "# print the message 'The total is....[total]. \n",
        "# Stop the loop when the total is over 50. \n",
        "\n",
        "total = 0\n",
        "\n",
        "while total <= 50:\n",
        "  no = int(input('number ? >>>'))\n",
        "  total += no\n",
        "\n",
        "print('The total is....', total-no) "
      ],
      "metadata": {
        "colab": {
          "base_uri": "https://localhost:8080/"
        },
        "id": "cSwIfcV5dfYr",
        "outputId": "b867a611-2a8b-4a4e-e4be-c9b25545c390"
      },
      "execution_count": 41,
      "outputs": [
        {
          "output_type": "stream",
          "name": "stdout",
          "text": [
            "number ? >>>40\n",
            "number ? >>>7\n",
            "number ? >>>8\n",
            "The total is.... 47\n"
          ]
        }
      ]
    }
  ]
}